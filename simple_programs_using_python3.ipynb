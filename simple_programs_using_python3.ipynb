{
 "cells": [
  {
   "cell_type": "code",
   "execution_count": 5,
   "metadata": {},
   "outputs": [
    {
     "name": "stdout",
     "output_type": "stream",
     "text": [
      "this program tell simple interest\n",
      "\n",
      "please enter the value of p\n",
      "4\n",
      "please enter the value of r\n",
      "4\n",
      "please enter the value of t\n",
      "4\n",
      "4.0\n",
      "your si is :- 0.64\n"
     ]
    }
   ],
   "source": [
    "# simple interest program \n",
    "import math\n",
    "print(\"this program tell simple interest\\n\")\n",
    "p=int(input(\"please enter the value of p\\n\"))\n",
    "r=float(input(\"please enter the value of r\\n\"))\n",
    "t=int(input(\"please enter the value of t\\n\"))\n",
    "si=((p*r*t)/100)\n",
    "print(r)\n",
    "print(\"your si is :-\",si)"
   ]
  },
  {
   "cell_type": "code",
   "execution_count": 8,
   "metadata": {},
   "outputs": [
    {
     "name": "stdout",
     "output_type": "stream",
     "text": [
      "this program will raise any number x to a positive power n \n",
      "\n",
      "please enter the no of which you want to raise the value:\n",
      "9\n",
      "please enter the no of how much you want to raise the value: \n",
      "9\n",
      "result:- 387420489\n"
     ]
    }
   ],
   "source": [
    "#  program to raise any number x to a positive power n\n",
    "import math\n",
    "print(\"this program will raise any number x to a positive power n \\n\")\n",
    "x=int(input(\"please enter the no of which you want to raise the value:\\n\"))\n",
    "n=int(input(\"please enter the no of how much you want to raise the value: \\n\"))\n",
    "result=int(math.pow(x,n))\n",
    "print(\"result:-\",result)"
   ]
  },
  {
   "cell_type": "code",
   "execution_count": 21,
   "metadata": {},
   "outputs": [
    {
     "name": "stdout",
     "output_type": "stream",
     "text": [
      "enter this program will convert given number of days into years, weeks and days\n",
      "\n",
      "enter the number of days\n",
      " 6\n",
      "days  6\n"
     ]
    }
   ],
   "source": [
    "# program to convert given number of days into years, weeks and days\n",
    "import math \n",
    "print(\"enter this program will convert given number of days into years, weeks and days\\n\")\n",
    "n=int(input(\"enter the number of days\\n \"))\n",
    "if n>=365:\n",
    "    yr=int(n/365)\n",
    "    x1=int(n%365)\n",
    "    we=int(x1/7)\n",
    "    da=int(x1%7)\n",
    "    print(\"years  \"+str(yr)+\"  weeks  \"+str(we)+\"  days  \"+str(da))\n",
    "elif 365>n and n>=7:\n",
    "    we=int(n/7)\n",
    "    da=int(n%7)\n",
    "    print(\"weeks  \"+str(we)+\"  days  \"+str(da))\n",
    "else:\n",
    "    print(\"days \",n)"
   ]
  },
  {
   "cell_type": "code",
   "execution_count": null,
   "metadata": {},
   "outputs": [],
   "source": []
  },
  {
   "cell_type": "code",
   "execution_count": null,
   "metadata": {},
   "outputs": [],
   "source": []
  },
  {
   "cell_type": "code",
   "execution_count": null,
   "metadata": {},
   "outputs": [],
   "source": []
  },
  {
   "cell_type": "code",
   "execution_count": null,
   "metadata": {},
   "outputs": [],
   "source": []
  },
  {
   "cell_type": "code",
   "execution_count": null,
   "metadata": {},
   "outputs": [],
   "source": []
  },
  {
   "cell_type": "code",
   "execution_count": null,
   "metadata": {},
   "outputs": [],
   "source": []
  },
  {
   "cell_type": "code",
   "execution_count": null,
   "metadata": {},
   "outputs": [],
   "source": []
  },
  {
   "cell_type": "code",
   "execution_count": null,
   "metadata": {},
   "outputs": [],
   "source": []
  },
  {
   "cell_type": "code",
   "execution_count": null,
   "metadata": {},
   "outputs": [],
   "source": []
  },
  {
   "cell_type": "code",
   "execution_count": null,
   "metadata": {},
   "outputs": [],
   "source": []
  },
  {
   "cell_type": "code",
   "execution_count": null,
   "metadata": {},
   "outputs": [],
   "source": []
  },
  {
   "cell_type": "code",
   "execution_count": null,
   "metadata": {},
   "outputs": [],
   "source": []
  },
  {
   "cell_type": "code",
   "execution_count": null,
   "metadata": {},
   "outputs": [],
   "source": []
  },
  {
   "cell_type": "code",
   "execution_count": null,
   "metadata": {},
   "outputs": [],
   "source": []
  },
  {
   "cell_type": "code",
   "execution_count": null,
   "metadata": {},
   "outputs": [],
   "source": [
    "\n"
   ]
  },
  {
   "cell_type": "code",
   "execution_count": null,
   "metadata": {},
   "outputs": [],
   "source": []
  },
  {
   "cell_type": "code",
   "execution_count": null,
   "metadata": {},
   "outputs": [],
   "source": []
  },
  {
   "cell_type": "code",
   "execution_count": null,
   "metadata": {},
   "outputs": [],
   "source": []
  },
  {
   "cell_type": "code",
   "execution_count": null,
   "metadata": {},
   "outputs": [],
   "source": []
  },
  {
   "cell_type": "code",
   "execution_count": null,
   "metadata": {},
   "outputs": [],
   "source": []
  }
 ],
 "metadata": {
  "kernelspec": {
   "display_name": "Python 3",
   "language": "python",
   "name": "python3"
  },
  "language_info": {
   "codemirror_mode": {
    "name": "ipython",
    "version": 3
   },
   "file_extension": ".py",
   "mimetype": "text/x-python",
   "name": "python",
   "nbconvert_exporter": "python",
   "pygments_lexer": "ipython3",
   "version": "3.6.4"
  }
 },
 "nbformat": 4,
 "nbformat_minor": 2
}
