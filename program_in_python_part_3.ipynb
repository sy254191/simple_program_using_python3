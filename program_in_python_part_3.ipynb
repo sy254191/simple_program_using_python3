{
 "cells": [
  {
   "cell_type": "code",
   "execution_count": 2,
   "metadata": {},
   "outputs": [
    {
     "name": "stdout",
     "output_type": "stream",
     "text": [
      "this program to swap two number with use of third variable\n",
      "\n",
      "enter the number to be swap\n",
      "\n",
      "5,4\n",
      "after swaping the result is \n",
      " \n",
      "4 5\n"
     ]
    }
   ],
   "source": [
    "#program to swap two number with use of third variable\n",
    "print(\"this program to swap two number with use of third variable\\n\")\n",
    "print(\"enter the number to be swap\\n\")\n",
    "a,b=map(int, input().strip().split(\",\"))\n",
    "temp=0\n",
    "temp=a\n",
    "a=b\n",
    "b=temp\n",
    "print(\"after swaping the result is \\n \")\n",
    "print(a,b)\n"
   ]
  },
  {
   "cell_type": "code",
   "execution_count": 4,
   "metadata": {
    "scrolled": true
   },
   "outputs": [
    {
     "name": "stdout",
     "output_type": "stream",
     "text": [
      "this program to swap two number without use of third variable\n",
      "\n",
      "enter the number to be swap\n",
      "\n",
      "5,66\n",
      "after swaping the result is \n",
      " \n",
      "66 5\n"
     ]
    }
   ],
   "source": [
    "#program to swap two number without use of third variable\n",
    "print(\"this program to swap two number without use of third variable\\n\")\n",
    "print(\"enter the number to be swap\\n\")\n",
    "a,b=map(int, input().strip().split(\",\"))\n",
    "if(a>b):\n",
    "    b=a-b\n",
    "    a=a-b\n",
    "    b=a+b\n",
    "elif(b>a):\n",
    "    a=b-a\n",
    "    b=b-a\n",
    "    a=b+a\n",
    "print(\"after swaping the result is \\n \")\n",
    "print(a,b)\n"
   ]
  },
  {
   "cell_type": "code",
   "execution_count": null,
   "metadata": {},
   "outputs": [],
   "source": []
  },
  {
   "cell_type": "code",
   "execution_count": null,
   "metadata": {},
   "outputs": [],
   "source": []
  },
  {
   "cell_type": "code",
   "execution_count": null,
   "metadata": {},
   "outputs": [],
   "source": []
  },
  {
   "cell_type": "code",
   "execution_count": null,
   "metadata": {},
   "outputs": [],
   "source": []
  }
 ],
 "metadata": {
  "kernelspec": {
   "display_name": "Python 3",
   "language": "python",
   "name": "python3"
  },
  "language_info": {
   "codemirror_mode": {
    "name": "ipython",
    "version": 3
   },
   "file_extension": ".py",
   "mimetype": "text/x-python",
   "name": "python",
   "nbconvert_exporter": "python",
   "pygments_lexer": "ipython3",
   "version": "3.6.4"
  }
 },
 "nbformat": 4,
 "nbformat_minor": 2
}
